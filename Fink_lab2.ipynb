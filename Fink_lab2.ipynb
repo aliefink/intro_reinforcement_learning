{
  "cells": [
    {
      "cell_type": "markdown",
      "metadata": {
        "id": "Gvnlfta4e7xi"
      },
      "source": [
        "# Welcome to **Lab 2**! \n",
        "\n",
        "Please start by making your own copy of this Google Colab notebook (you will need a Google account). \n",
        "\n",
        "In this lab, we will get some practice with defining MDPs and simulating the emergence of abnormal decision-making in anxiety using a model proposed by [Zorowitz et al. (2019)](https://cpsyjournal.org/article/10.1162/CPSY_a_00026/). The idea of their theory is that different symptoms of anxiety can be explained by the belief that one's own future actions will not be effective at avoiding threat. We can test such a theory in a simulation experiment in which an RL agent iteratively interacts with a grid world environment using a sequence of actions. \n",
        "\n",
        "Learning objectives:  \n",
        "\n",
        "* Interact with open code \n",
        "* Instantiate a gridworld environment\n",
        "* Compute value function under a pessimistic policy using value iteration\n",
        "* Translate a decision making task into an MDP\n",
        "\n",
        "As you work on the lab, you may re-use or modify any of the code above. You are welcome to work in groups, though each student should turn in an individual notebook with answers by uploading to this [Google Drive folder](https://drive.google.com/drive/folders/1Tf99kycwrvAFJ_D7stayd8RkrWOXEds1), using the following naming convention: *LastName*-*FirstName*-*Lab2*."
      ]
    },
    {
      "cell_type": "markdown",
      "source": [
        "# Codebase installation"
      ],
      "metadata": {
        "id": "MDChwMYKmRgH"
      }
    },
    {
      "cell_type": "code",
      "execution_count": null,
      "metadata": {
        "colab": {
          "base_uri": "https://localhost:8080/"
        },
        "id": "MDcOVKjVe37J",
        "outputId": "a722f2bf-0131-4564-ccd4-76ed843b10c3"
      },
      "outputs": [
        {
          "output_type": "stream",
          "name": "stdout",
          "text": [
            "Looking in indexes: https://pypi.org/simple, https://us-python.pkg.dev/colab-wheels/public/simple/\n",
            "Collecting git+https://github.com/ndawlab/seqanx.git\n",
            "  Cloning https://github.com/ndawlab/seqanx.git to /tmp/pip-req-build-69qyky38\n",
            "  Running command git clone -q https://github.com/ndawlab/seqanx.git /tmp/pip-req-build-69qyky38\n",
            "Requirement already satisfied: numpy in /usr/local/lib/python3.7/dist-packages (from sisyphus==0.2) (1.21.6)\n",
            "Requirement already satisfied: scipy in /usr/local/lib/python3.7/dist-packages (from sisyphus==0.2) (1.7.3)\n",
            "Requirement already satisfied: pandas in /usr/local/lib/python3.7/dist-packages (from sisyphus==0.2) (1.3.5)\n",
            "Requirement already satisfied: numba in /usr/local/lib/python3.7/dist-packages (from sisyphus==0.2) (0.56.2)\n",
            "Requirement already satisfied: setuptools<60 in /usr/local/lib/python3.7/dist-packages (from numba->sisyphus==0.2) (57.4.0)\n",
            "Requirement already satisfied: importlib-metadata in /usr/local/lib/python3.7/dist-packages (from numba->sisyphus==0.2) (4.12.0)\n",
            "Requirement already satisfied: llvmlite<0.40,>=0.39.0dev0 in /usr/local/lib/python3.7/dist-packages (from numba->sisyphus==0.2) (0.39.1)\n",
            "Requirement already satisfied: zipp>=0.5 in /usr/local/lib/python3.7/dist-packages (from importlib-metadata->numba->sisyphus==0.2) (3.8.1)\n",
            "Requirement already satisfied: typing-extensions>=3.6.4 in /usr/local/lib/python3.7/dist-packages (from importlib-metadata->numba->sisyphus==0.2) (4.1.1)\n",
            "Requirement already satisfied: python-dateutil>=2.7.3 in /usr/local/lib/python3.7/dist-packages (from pandas->sisyphus==0.2) (2.8.2)\n",
            "Requirement already satisfied: pytz>=2017.3 in /usr/local/lib/python3.7/dist-packages (from pandas->sisyphus==0.2) (2022.2.1)\n",
            "Requirement already satisfied: six>=1.5 in /usr/local/lib/python3.7/dist-packages (from python-dateutil>=2.7.3->pandas->sisyphus==0.2) (1.15.0)\n",
            "Building wheels for collected packages: sisyphus\n",
            "  Building wheel for sisyphus (setup.py) ... \u001b[?25l\u001b[?25hdone\n",
            "  Created wheel for sisyphus: filename=sisyphus-0.2-py3-none-any.whl size=25703 sha256=0856d54bbe533a686abd7884a23e4b191902e18fa7e1a13be2882b19051e4803\n",
            "  Stored in directory: /tmp/pip-ephem-wheel-cache-z7iz8gpv/wheels/f7/fc/c1/d47c8d7f1bb0b86b095179290edace4be14a547b87fe1ce5ee\n",
            "Successfully built sisyphus\n",
            "Installing collected packages: sisyphus\n",
            "Successfully installed sisyphus-0.2\n"
          ]
        }
      ],
      "source": [
        "pip install git+https://github.com/ndawlab/seqanx.git"
      ]
    },
    {
      "cell_type": "code",
      "execution_count": null,
      "metadata": {
        "id": "ZgHpU6SDhCEI"
      },
      "outputs": [],
      "source": [
        "# Load dependencies.\n",
        "import os\n",
        "import numpy as np\n",
        "import matplotlib.pyplot as plt\n",
        "import matplotlib.gridspec as gridspec\n",
        "import seaborn as sns\n",
        "from sisyphus.envs import OpenField\n",
        "sns.set_style('white')\n",
        "sns.set_context('notebook', font_scale=1.5)\n",
        "img_dir = os.path.join('..','figures')\n",
        "%matplotlib inline\n",
        "\n",
        "from sisyphus.mdp import ValueIteration\n",
        "from mpl_toolkits.axes_grid1 import make_axes_locatable\n",
        "from palettable.colorbrewer.diverging import RdBu_9 as palette"
      ]
    },
    {
      "cell_type": "markdown",
      "metadata": {
        "id": "pG2CyJaDKXE4"
      },
      "source": [
        "The cell above loads all the dependencies we need. The two main classes we will use are the *OpenField* environment and the *ValueIteration* algorithm for solving the MDP. Navigate to the original [codebase](https://github.com/ndawlab/seqanx) and locate each.\n",
        "\n",
        "Based on the information in the *OpenField* constructor function, answer the following questions about the environment: \n",
        "\n",
        "**How many total states are there in the grid?**"
      ]
    },
    {
      "cell_type": "markdown",
      "source": [
        "There are 121 (11x11) states in this grid."
      ],
      "metadata": {
        "id": "QhllzZxu5vsG"
      }
    },
    {
      "cell_type": "markdown",
      "source": [
        "**In which state will the agent receive a reward?**\n"
      ],
      "metadata": {
        "id": "q86pjhTg5yFh"
      }
    },
    {
      "cell_type": "markdown",
      "source": [
        "The agent will receive a reward when it goes to the location of [1,2]"
      ],
      "metadata": {
        "id": "cUfoiP_K50rH"
      }
    },
    {
      "cell_type": "markdown",
      "source": [
        "**In which state will the agent encounter a threat?**\n"
      ],
      "metadata": {
        "id": "Y8NATI2V53Io"
      }
    },
    {
      "cell_type": "markdown",
      "source": [
        "The agent will receive a reward when it goes to the location of [1,8]"
      ],
      "metadata": {
        "id": "9KUCixPl58hW"
      }
    },
    {
      "cell_type": "markdown",
      "source": [
        "**Which states are defined as \"terminal\" states (states after which the episode ends)?**\n"
      ],
      "metadata": {
        "id": "VQnC6ewA552e"
      }
    },
    {
      "cell_type": "markdown",
      "source": [
        "The terminal state is the final state of an episode, which is followed by a reset to a starting state. In the ValueIteration class, if delta (Q-q) is lest than tol (tolerance for stopping criteria), then the episode terminates and the next one starts, indicated by line 86 - if np.all(delta < self.tol): break"
      ],
      "metadata": {
        "id": "anSQhIN16AGv"
      }
    },
    {
      "cell_type": "markdown",
      "source": [
        "**Give the lines in the *ValueIteration* class that implement the main loop of the value iteration algorithm (no need to copy the code).**\n"
      ],
      "metadata": {
        "id": "h3d9LxD05-Ox"
      }
    },
    {
      "cell_type": "markdown",
      "source": [
        "lines 58-88 (def_q_solve function)"
      ],
      "metadata": {
        "id": "XARrqxZY6EPl"
      }
    },
    {
      "cell_type": "markdown",
      "metadata": {
        "id": "qh9dOYq0Xcpc"
      },
      "source": [
        "# Reproducing the findings"
      ]
    },
    {
      "cell_type": "code",
      "execution_count": null,
      "metadata": {
        "colab": {
          "base_uri": "https://localhost:8080/",
          "height": 1000
        },
        "id": "lWGHfDXEX24k",
        "outputId": "78ae9c78-845c-4466-ed3f-d1e230ed22e2"
      },
      "outputs": [
        {
          "output_type": "stream",
          "name": "stdout",
          "text": [
            "w = 1.0\n"
          ]
        },
        {
          "output_type": "stream",
          "name": "stderr",
          "text": [
            "/usr/local/lib/python3.7/dist-packages/sisyphus/mdp/_misc.py:13: NumbaWarning: \n",
            "Compilation is falling back to object mode WITH looplifting enabled because Function \"pessimism\" failed type inference due to: non-precise type pyobject\n",
            "During: typing of argument at /usr/local/lib/python3.7/dist-packages/sisyphus/mdp/_misc.py (16)\n",
            "\n",
            "File \"../usr/local/lib/python3.7/dist-packages/sisyphus/mdp/_misc.py\", line 16:\n",
            "def pessimism(arr, w):\n",
            "    <source elided>\n",
            "    \"\"\"Pessimistic learning rule.\"\"\"\n",
            "    return w * np.max(arr) + (1 - w) * np.min(arr)\n",
            "    ^\n",
            "\n",
            "  @jit\n",
            "/usr/local/lib/python3.7/dist-packages/numba/core/object_mode_passes.py:152: NumbaWarning: Function \"pessimism\" was compiled in object mode without forceobj=True.\n",
            "\n",
            "File \"../usr/local/lib/python3.7/dist-packages/sisyphus/mdp/_misc.py\", line 14:\n",
            "@jit\n",
            "def pessimism(arr, w):\n",
            "^\n",
            "\n",
            "  state.func_ir.loc))\n",
            "/usr/local/lib/python3.7/dist-packages/numba/core/object_mode_passes.py:162: NumbaDeprecationWarning: \n",
            "Fall-back from the nopython compilation path to the object mode compilation path has been detected, this is deprecated behaviour.\n",
            "\n",
            "For more information visit https://numba.readthedocs.io/en/stable/reference/deprecation.html#deprecation-of-object-mode-fall-back-behaviour-when-using-jit\n",
            "\n",
            "File \"../usr/local/lib/python3.7/dist-packages/sisyphus/mdp/_misc.py\", line 14:\n",
            "@jit\n",
            "def pessimism(arr, w):\n",
            "^\n",
            "\n",
            "  state.func_ir.loc))\n"
          ]
        },
        {
          "output_type": "stream",
          "name": "stdout",
          "text": [
            "w = 0.5\n"
          ]
        },
        {
          "output_type": "stream",
          "name": "stderr",
          "text": [
            "/usr/local/lib/python3.7/dist-packages/sisyphus/mdp/_dp.py:144: UserWarning: Reached maximum iterations.\n",
            "  warn('Reached maximum iterations.')\n",
            "/usr/local/lib/python3.7/dist-packages/sisyphus/mdp/_misc.py:13: NumbaWarning: \n",
            "Compilation is falling back to object mode WITH looplifting enabled because Function \"pessimism\" failed type inference due to: non-precise type pyobject\n",
            "During: typing of argument at /usr/local/lib/python3.7/dist-packages/sisyphus/mdp/_misc.py (16)\n",
            "\n",
            "File \"../usr/local/lib/python3.7/dist-packages/sisyphus/mdp/_misc.py\", line 16:\n",
            "def pessimism(arr, w):\n",
            "    <source elided>\n",
            "    \"\"\"Pessimistic learning rule.\"\"\"\n",
            "    return w * np.max(arr) + (1 - w) * np.min(arr)\n",
            "    ^\n",
            "\n",
            "  @jit\n",
            "/usr/local/lib/python3.7/dist-packages/numba/core/object_mode_passes.py:152: NumbaWarning: Function \"pessimism\" was compiled in object mode without forceobj=True.\n",
            "\n",
            "File \"../usr/local/lib/python3.7/dist-packages/sisyphus/mdp/_misc.py\", line 14:\n",
            "@jit\n",
            "def pessimism(arr, w):\n",
            "^\n",
            "\n",
            "  state.func_ir.loc))\n",
            "/usr/local/lib/python3.7/dist-packages/numba/core/object_mode_passes.py:162: NumbaDeprecationWarning: \n",
            "Fall-back from the nopython compilation path to the object mode compilation path has been detected, this is deprecated behaviour.\n",
            "\n",
            "For more information visit https://numba.readthedocs.io/en/stable/reference/deprecation.html#deprecation-of-object-mode-fall-back-behaviour-when-using-jit\n",
            "\n",
            "File \"../usr/local/lib/python3.7/dist-packages/sisyphus/mdp/_misc.py\", line 14:\n",
            "@jit\n",
            "def pessimism(arr, w):\n",
            "^\n",
            "\n",
            "  state.func_ir.loc))\n"
          ]
        },
        {
          "output_type": "stream",
          "name": "stdout",
          "text": [
            "w = 0\n"
          ]
        },
        {
          "output_type": "display_data",
          "data": {
            "text/plain": [
              "<Figure size 1152x288 with 5 Axes>"
            ],
            "image/png": "[encoded data removed]"
          },
          "metadata": {
            "needs_background": "light"
          }
        }
      ],
      "source": [
        "#~~~~~~~~~~~~~~~~~~~~~~~~~~~~~~~~~~~~~~~~~~#\n",
        "### Define parameters.\n",
        "#~~~~~~~~~~~~~~~~~~~~~~~~~~~~~~~~~~~~~~~~~~#\n",
        "\n",
        "## Simulation parameters.\n",
        "# This number dictates the weight of pessimistic belief - that is,\n",
        "# how strongly does the agent believe it can take the\n",
        "# reward maximizing action in the future (1 = \"I can always maximize\", \"0 = I can never maximize\")\n",
        "weights = [1.0, 0.5, 0]\n",
        "\n",
        "#~~~~~~~~~~~~~~~~~~~~~~~~~~~~~~~~~~~~~~~~~~#\n",
        "### Environment setup and visualization.\n",
        "#~~~~~~~~~~~~~~~~~~~~~~~~~~~~~~~~~~~~~~~~~~#\n",
        "## Initialize figure.\n",
        "fig = plt.figure(figsize=(16,4))\n",
        "cmap = palette.get_mpl_colormap()\n",
        "colors = palette.hex_colors\n",
        "\n",
        "## Initialize plots and divider.\n",
        "gs = gridspec.GridSpec(1,4)\n",
        "gs.update(left=0.01, right=0.94, bottom=0.04, top=0.9, hspace=0, wspace=0.02)\n",
        "\n",
        "## Initialize environment.\n",
        "gym = OpenField()\n",
        "\n",
        "## Plot environment.\n",
        "ax = plt.subplot(gs[0])\n",
        "ax = gym.plot_field(reward_color=colors[-1], punishment_color=colors[0], ax=ax, \n",
        "                    annot_kws=dict(fontsize=17,fontweight='semibold',color='w'))\n",
        "\n",
        "#~~~~~~~~~~~~~~~~~~~~~~~~~~~~~~~~~~~~~~~~~~#\n",
        "### Value iteration and visualization.\n",
        "#~~~~~~~~~~~~~~~~~~~~~~~~~~~~~~~~~~~~~~~~~~#\n",
        "\n",
        "i = 0\n",
        "\n",
        "for w in weights:\n",
        "    \n",
        "    print('w = ' + str(w))\n",
        "\n",
        "    ## Initialize value iteration.\n",
        "    qvi = ValueIteration(policy='pessimism', gamma=0.95, w=w)\n",
        "    \n",
        "    ## Solve for Q-values.\n",
        "    qvi = qvi.fit(gym)\n",
        "    V = qvi.V.reshape(gym.shape)\n",
        "    V[1,[2,-3]] = [10, -10]         # fill in value of terminal states (this is just for plotting).\n",
        "    \n",
        "    ## Solve for policy.\n",
        "    pi = qvi.pi\n",
        "    \n",
        "    ## Initialize canvas.\n",
        "    ax = plt.subplot(gs[i+1])\n",
        "    if i == 2:\n",
        "        cbar = True\n",
        "        divider = make_axes_locatable(ax)\n",
        "        cbar_ax = divider.append_axes(\"right\", size=\"5%\", pad=0.05)\n",
        "    else:\n",
        "        cbar = False\n",
        "        cbar_ax = None\n",
        "    i = i+1\n",
        "    \n",
        "    ## Plotting.\n",
        "    sns.heatmap(V, cmap=cmap, center=0, vmin=-10, vmax=10, cbar=cbar,\n",
        "                xticklabels=[], yticklabels=[], ax=ax, cbar_ax=cbar_ax)\n",
        "    ax = gym.plot_policy(ax, pi, color=np.where(np.abs(V.flatten()[pi]) < 2, '0.4', 'w'))\n",
        "    ax.set_title(f'w = {w}', fontsize=24)\n",
        "  \n",
        "    ## Update colorbar.\n",
        "    if cbar:\n",
        "        cbar = ax.collections[0].colorbar\n",
        "        cbar.set_label(r'$V(s)$', fontsize=20)"
      ]
    },
    {
      "cell_type": "markdown",
      "source": [
        "# Exercises  "
      ],
      "metadata": {
        "id": "0z2hmkgT7ywg"
      }
    },
    {
      "cell_type": "markdown",
      "source": [
        "**For the fully optimistic agent (*$w$=1*), is there any state in the grid world from which the agent could end up visiting the threat state? Why or why not?**"
      ],
      "metadata": {
        "id": "b19e2tx0osvd"
      }
    },
    {
      "cell_type": "markdown",
      "source": [
        "No, because the agent will always choose a move with the highest expected value and the other states around the threat state will always have a higher value, so the threat state will never be chosen. "
      ],
      "metadata": {
        "id": "CVOyNxocpaKW"
      }
    },
    {
      "cell_type": "markdown",
      "source": [
        "**In your own words, explain the agent's behavior in the fully pessimistic case (*$w$=0*). What happens to the value such that the agent gets stuck in an avoidance pattern? (hint: think about the relative contribution of the reward vs. threat to the value function)**"
      ],
      "metadata": {
        "id": "mg-EZOK27NBO"
      }
    },
    {
      "cell_type": "markdown",
      "source": [
        "In the fully pessimistic case, the weight on the probability of choosing the correct choice is 0, so the agent will never choose the highest value state. The agent thinks that threats are always likely and will avoid taking the option with the highest value, and therefore will always make a lower value choice. In avoiding the threat, the agent never achieves the reward. "
      ],
      "metadata": {
        "id": "HDXlx0S67pHi"
      }
    },
    {
      "cell_type": "markdown",
      "source": [
        "**Starting with 0, try a few different levels of $w$. How optimistic would the agent need to become to start \"avoiding avoidance\"?** "
      ],
      "metadata": {
        "id": "VCGzZIFMpm-g"
      }
    },
    {
      "cell_type": "code",
      "source": [
        "#~~~~~~~~~~~~~~~~~~~~~~~~~~~~~~~~~~~~~~~~~~#\n",
        "### Define parameters.\n",
        "#~~~~~~~~~~~~~~~~~~~~~~~~~~~~~~~~~~~~~~~~~~#\n",
        "\n",
        "## Simulation parameters.\n",
        "# This number dictates the weight of pessimistic belief - that is,\n",
        "# how strongly does the agent believe it can take the\n",
        "# reward maximizing action in the future (1 = \"I can always maximize\", \"0 = I can never maximize\")\n",
        "weights = [0, 0.25, 0.5, 1.0]\n",
        "\n",
        "#~~~~~~~~~~~~~~~~~~~~~~~~~~~~~~~~~~~~~~~~~~#\n",
        "### Environment setup and visualization.\n",
        "#~~~~~~~~~~~~~~~~~~~~~~~~~~~~~~~~~~~~~~~~~~#\n",
        "## Initialize figure.\n",
        "fig = plt.figure(figsize=(16,4))\n",
        "cmap = palette.get_mpl_colormap()\n",
        "colors = palette.hex_colors\n",
        "\n",
        "## Initialize plots and divider.\n",
        "gs = gridspec.GridSpec(1,5)\n",
        "gs.update(left=0.01, right=0.94, bottom=0.04, top=0.9, hspace=0, wspace=0.02)\n",
        "\n",
        "## Initialize environment.\n",
        "gym = OpenField()\n",
        "\n",
        "## Plot environment.\n",
        "ax = plt.subplot(gs[0])\n",
        "ax = gym.plot_field(reward_color=colors[-1], punishment_color=colors[0], ax=ax, \n",
        "                    annot_kws=dict(fontsize=17,fontweight='semibold',color='w'))\n",
        "\n",
        "#~~~~~~~~~~~~~~~~~~~~~~~~~~~~~~~~~~~~~~~~~~#\n",
        "### Value iteration and visualization.\n",
        "#~~~~~~~~~~~~~~~~~~~~~~~~~~~~~~~~~~~~~~~~~~#\n",
        "\n",
        "i = 0\n",
        "\n",
        "for w in weights:\n",
        "    \n",
        "    print('w = ' + str(w))\n",
        "\n",
        "    ## Initialize value iteration.\n",
        "    qvi = ValueIteration(policy='pessimism', gamma=0.95, w=w)\n",
        "    \n",
        "    ## Solve for Q-values.\n",
        "    qvi = qvi.fit(gym)\n",
        "    V = qvi.V.reshape(gym.shape)\n",
        "    V[1,[2,-3]] = [10, -10]         # fill in value of terminal states (this is just for plotting).\n",
        "    \n",
        "    ## Solve for policy.\n",
        "    pi = qvi.pi\n",
        "    \n",
        "    ## Initialize canvas.\n",
        "    ax = plt.subplot(gs[i+1])\n",
        "    if i == 2:\n",
        "        cbar = True\n",
        "        divider = make_axes_locatable(ax)\n",
        "        cbar_ax = divider.append_axes(\"right\", size=\"5%\", pad=0.05)\n",
        "    else:\n",
        "        cbar = False\n",
        "        cbar_ax = None\n",
        "    i = i+1\n",
        "    \n",
        "    ## Plotting.\n",
        "    sns.heatmap(V, cmap=cmap, center=0, vmin=-10, vmax=10, cbar=cbar,\n",
        "                xticklabels=[], yticklabels=[], ax=ax, cbar_ax=cbar_ax)\n",
        "    ax = gym.plot_policy(ax, pi, color=np.where(np.abs(V.flatten()[pi]) < 2, '0.4', 'w'))\n",
        "    ax.set_title(f'w = {w}', fontsize=24)\n",
        "  \n",
        "    ## Update colorbar.\n",
        "    if cbar:\n",
        "        cbar = ax.collections[0].colorbar\n",
        "        cbar.set_label(r'$V(s)$', fontsize=20)"
      ],
      "metadata": {
        "colab": {
          "base_uri": "https://localhost:8080/",
          "height": 386
        },
        "id": "3m9XfWsTVPBd",
        "outputId": "acda5deb-70c9-437d-c9c8-0b9e5f9155df"
      },
      "execution_count": null,
      "outputs": [
        {
          "output_type": "stream",
          "name": "stdout",
          "text": [
            "w = 0\n",
            "w = 0.25\n",
            "w = 0.5\n",
            "w = 1.0\n"
          ]
        },
        {
          "output_type": "display_data",
          "data": {
            "text/plain": [
              "<Figure size 1152x288 with 6 Axes>"
            ],
            "image/png": "[encoded data removed]"
          },
          "metadata": {
            "needs_background": "light"
          }
        }
      ]
    },
    {
      "cell_type": "markdown",
      "source": [
        "Once an agent's weight = 0.5, the agent will begin to 'avoid avoidance'. This makes sense because in practice this means there is a 50/50 chance (or more) that an agent will choose the highest value option or not. As w increases, an agent becomes more optimistic. Once the chances of choosing the highest value are equal to or greater than choosing another option, an agent is no longer primarily avoidant. "
      ],
      "metadata": {
        "id": "iLjS2ADwqEbF"
      }
    },
    {
      "cell_type": "markdown",
      "source": [
        "**Based on your simulation, list at least two behavioral interventions you might try to address an agent's avoidance.**"
      ],
      "metadata": {
        "id": "iBvSdwNQqGGZ"
      }
    },
    {
      "cell_type": "markdown",
      "source": [
        "- cognitive behavioral therapy to work through an agent's inherent pessimism\n",
        "- adding more rewards to a gridspace to provide more encouragement to avoid avoidance, hopefully increasing w over time"
      ],
      "metadata": {
        "id": "3md4njuUqUCA"
      }
    },
    {
      "cell_type": "markdown",
      "source": [
        "**How would you test for the success of this intervention based on the behavioral predictions from this model? (hint: think about what experiment you would run and what parameters you would measure)**"
      ],
      "metadata": {
        "id": "y5EFswmvrthx"
      }
    },
    {
      "cell_type": "markdown",
      "source": [
        "I would try to measure the w value of a patient's behavior, based on the trajectory the patient takes throughout the experiment. Instead of simulating the patient's behavior based on a given w, I would estimate the w based on the behavior the patient exhibits. If w increases, then the behavioral intervention was successful."
      ],
      "metadata": {
        "id": "ODY6XVfkr-Il"
      }
    },
    {
      "cell_type": "markdown",
      "source": [
        "**Would the model as written apply to all forms of anxiety? Why or why not?**"
      ],
      "metadata": {
        "id": "H6sWmgkMsAEZ"
      }
    },
    {
      "cell_type": "markdown",
      "source": [
        "No, this model would not apply to all forms of anxiety. An individual can be anxious without being avoidant. This problem defines anxiety as avoidance, but in the real world anxiety can take many forms that do not necessarily involve avoidance. "
      ],
      "metadata": {
        "id": "eNPEAkFg5HEa"
      }
    },
    {
      "cell_type": "markdown",
      "source": [
        "Using the examples from class as a guide, choose a task you have encountered in the literature (e.g. \"go-nogo task\", \"social navigation task\") and try to translate it to an MDP. Some questions to guide you: \n",
        "\n",
        "* Does this task have sequential structure? That is, does the agent need to take multiple actions before reaching a goal state?\n",
        "* What are the states of the task? \n",
        "* What actions are available to the agent in this task? Is every action available in every state?\n",
        "* How does an episode terminate? I.e. what are the terminal states, and from where can they be reached?\n",
        "* How would you define the transition and reward functions?"
      ],
      "metadata": {
        "id": "yIHsc5_kd1yL"
      }
    },
    {
      "cell_type": "markdown",
      "source": [
        "The go/no go task can be translated to an MDP. Patients either make an action based on a 'go' signal or withold an action based on a 'no go' signal. Witholding an action is supposed to be more difficult if there are many go signals preceeding. Participants must maximize potential reward by paying attention to stimuli and not making actions incorrectly. Participants will maximize reward when they figure out which signal is the go signal and which signal is the no go signal and then properly act/not act with those signals. \n",
        "\n",
        "*   Yes, the task does have sequential structure because the agent must learn which stimuli is the 'go' signal and which stimuli is the 'no go' signal. In different episodes these signals can differ so the agent has to relearn. To achieve the goal state the agent must learn which stimuli is which and then correctly maintain that representation. \n",
        "*  The task has two states - one with the go signal and one with the no go signal \n",
        "* There are to actions, one is doing the action and one is not doing the action. The agent can do either action in any given state but only one is rewarded depending on the stimuli presented (the state)\n",
        "* The episode finishes when the agent completes an amount of trials determined by the experimenter. A new episode may switch stimuli entirely, or reverse the stimuli. \n",
        "* The transition function is the point where an agent receives a reward based on a previous state action pair and then sees the state following that reward. This would mean the transition function is when an agent makes (or does not make) an action and then sees whether that action was rewarded and what the next state is. \n",
        "* The reward function is the reward given when a proper action (or inaction) is taken. "
      ],
      "metadata": {
        "id": "-veHfjoT75NO"
      }
    }
  ],
  "metadata": {
    "colab": {
      "provenance": []
    },
    "kernelspec": {
      "display_name": "Python 3",
      "name": "python3"
    },
    "language_info": {
      "name": "python"
    }
  },
  "nbformat": 4,
  "nbformat_minor": 0
}