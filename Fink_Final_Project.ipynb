{
  "nbformat": 4,
  "nbformat_minor": 0,
  "metadata": {
    "colab": {
      "provenance": []
    },
    "kernelspec": {
      "name": "python3",
      "display_name": "Python 3"
    },
    "language_info": {
      "name": "python"
    }
  },
  "cells": [
    {
      "cell_type": "markdown",
      "source": [
        "# **Modeling Mood from Counterfactual Outcomes as Integrated Advantages**\n",
        "\n",
        "Final Project for A Fink 12/12/2022"
      ],
      "metadata": {
        "id": "GUXH7DZNwtS9"
      }
    },
    {
      "cell_type": "markdown",
      "source": [
        "### **Abstract** \n",
        "Computational models of mood seek to describe the impact of reward computations on human mood fluctuations. These models have repeatedly shown that one's mood state is altered by reward outcomes, reward prediction errors, and expected value of reward options in monetary gambling tasks. [3] Current mood models fail to account for counterfactual outcomes as a model-based reward signal that impacts mood. Counterfactuals are defined as the difference in reward obtained and reward that *could have* been obtained, had one made a different decision. In the present study, counterfactuals are calcuated as a policy-weighted reward difference. [1] I aim to investigate the relationship between counterfactual outcomes and mood responses. I hypothesize that mood rating will change as a function of the integrated advantage of counterfactual outcomes.\n",
        "\n"
      ],
      "metadata": {
        "id": "0za6axkMkPJb"
      }
    },
    {
      "cell_type": "markdown",
      "source": [
        "### **Introduction**\n",
        "\n",
        "Understanding human mood responses to external stimuli is a central goal of computational psychiatry. Mood disorders, like major depressive disorder, are debilitating and life-threatening. Without a clear understanding of the relationship between mood fluctuations and reward computations in humans, we cannot effectively treat patients with mood disorders. \n",
        "\n",
        "I hypothesize that model-based reward computations heaviliy impact mood. Current computational models of mood include only model-free reward computations, like reward prediction errors, to account for mood fluctuations during decision making. By not accounting for model-based reward signals in computational models, these computational theories about mood state are lacking. Such models have failed to find differences in encoding model-free reward computations in patients with major depressive disorder, showing that these models are missing a key component mood. Counterfactual signals are a model-based signal often thought of as regret. These signals are known to effect decision-making behavior and in patients with depression, regret is heightened and contributes to symptoms of rumination. I hypothesize that models using model-based counterfactual signals will out perform models with solely model-free reward computations. \n",
        "\n",
        "Rather than calculating counterfactual signals as the raw difference in outcome - possible outcome, I hypothesize that counterfactual signals are computed as a policy-weighted reward difference. The PWRD seeks to model mood as an Integrated Advantage [1], where mood is influenced by an agent's appraisal of their actions. Measuring counterfactual signals as a PWRD allows models to account for an agent's individual preference for loss, risk, and gamble choice. \n",
        "\n",
        "Subjects will play the Subjective Wellbeing task. The SWB is a 150 trial gambling task where participants are offered a safe bet reward option or a gamble reward option with a 50% chance of a greater or worse outcome than the safe bet option. The outcome of the unchosen option is shown to subjects after they make their choice, creating a counterfactual reward signal. Every 3 trials subjects rate their current happiness rating. \n",
        "\n",
        "I hypothesize that the policy-weighted reward difference model will best predict subject's mood ratings throughout the subjective-wellbeing task. \n",
        "\n"
      ],
      "metadata": {
        "id": "Kewm1uq2mNvm"
      }
    },
    {
      "cell_type": "markdown",
      "source": [
        "### **Methods** Part One: Estimating Gamble Probabilities using Prospect Theory Model\n",
        "\n",
        "Prior to calculating counterfactual outcomes, patient-specific gamble preferences must be estimated. Using a 3-parameter Prospect Theory Model, I estimated a patient's loss aversion, risk aversion, and gamble choice probability. First, the subjective utility for the safe and gamble choice was calculated for every trial, with different calculations for different trial types (mix,loss,gain). Then, the gamble choice probability was estimated using the difference in subjective utility of gamble and safe choices in a softmax function. Loss aversion, risk aversion, and gamble choice probability were estimated using Maximum Likelihood Estimation.[2]\n",
        "\n",
        "The gamble choice probability, mu, was then used to calculate policy weighted reward differences in actual and counterfactual outcomes for every trial. [1] See Part Two below. "
      ],
      "metadata": {
        "id": "9HR3UPO0xCNq"
      }
    },
    {
      "cell_type": "code",
      "execution_count": null,
      "metadata": {
        "id": "aQSaL-hVwRx5"
      },
      "outputs": [],
      "source": [
        "#load dependencies\n",
        "\n",
        "import pandas as pd, numpy as np\n",
        "import matplotlib.pyplot as plt\n",
        "import seaborn as sns\n",
        "from scipy.optimize import minimize\n",
        "from scipy.optimize import least_squares\n",
        "from scipy import stats    \n",
        "import math   "
      ]
    },
    {
      "cell_type": "code",
      "source": [
        "#preprocessing data\n",
        "#subjects = pd.read_excel('/content/SWB_subjects.xlsx', sheet_name = 'Usable Subjects', usecols = 'A')\n",
        "df = pd.read_csv('/content/MS017_task_data')\n",
        "df['Gamble.Choice'] = df[\"Gamble.Choice\"].replace({\"gamble\":1,\"safe\":0}) #gamble choice must be numerically coded\n",
        "rating = pd.read_csv('/content/MS017_rate_data')\n",
        "rating = rating['zscore_mood']"
      ],
      "metadata": {
        "id": "KbYAd5IpOoxk"
      },
      "execution_count": null,
      "outputs": []
    },
    {
      "cell_type": "code",
      "source": [
        "##### Defining Prospect Theory Function ######\n",
        "\n",
        "#Estimating 3 free parameters: \n",
        "  #- lambda: loss aversion parameter\n",
        "  #- rho: risk aversion parameter\n",
        "  #- mu: inverse temperature\n",
        "\n",
        "#Calculate Subjective Utility Differences\n",
        " #mix trials\n",
        "  #util_diff = 0.5*high_bet^risk_aversion + 0.5*loss_aversion*low_bet^risk_aversion\n",
        " #loss trials\n",
        "  #util_diff = (0.5*loss_aversion*high_bet + 0.5*loss_aversion*low_bet) - loss_aversion*safe_bet\n",
        " #gain trials\n",
        "  #util_diff = 0.5*high_bet^risk_aversion - safe_bet^risk_aversion\n",
        "\n",
        "\n",
        "#Calculate Probability of Choosing the Gamble \n",
        "#p_accept = 1/(1+math.e^-mu*util_diff) #softmax equation\n",
        "\n",
        "\n",
        "def ProspectTheory(params,df):\n",
        "    \"\"\"\n",
        "    Function estimates the negative log likelihood of param estimates\n",
        "    \n",
        "    Args:\n",
        "    df (single subject df with trialtype, offers(safe,low,high), and gamble choice)\n",
        "    params (list of initial values for loss_aversion, risk_aversion, mu)\n",
        "\n",
        "    \"\"\"\n",
        "    probs = []\n",
        "    loss_aversion = params[0]\n",
        "    risk_aversion = params[1]\n",
        "    mu = params[2]\n",
        "\n",
        "    for i in range(0,150):\n",
        "      trial_type = df['TrialType'][i]\n",
        "      high_bet = df['High.Bet'][i]\n",
        "      low_bet = df['Low.Bet'][i]\n",
        "      safe_bet = df['Safe.Bet'][i]\n",
        "      choice = df['Gamble.Choice'][i]\n",
        "\n",
        "      #calculate difference in subjective utilities for trial \n",
        "      \n",
        "      if trial_type == 'mix':\n",
        "        util_diff = (0.5*(high_bet**risk_aversion)) + (0.5*((loss_aversion*(low_bet**risk_aversion))) #might not need negative in front of low\n",
        "      elif trial_type == 'loss':\n",
        "        util_diff = (0.5*(loss_aversion*high_bet)) + (0.5*(loss_aversion*(low_bet)) - (loss_aversion*safe_bet)\n",
        "      else: #gain\n",
        "        util_diff = (0.5*(high_bet**risk_aversion)) - (safe_bet**risk_aversion)\n",
        "\n",
        "      #calculate probability of gamble for trial i \n",
        "      p_accept = 1/(1+math.e**(-mu*util_diff)) #softmax equation\n",
        "\n",
        "      probs.append(p_accept)\n",
        "\n",
        "    \n",
        "    negLL = -np.sum(np.log(probs))\n",
        "    \n",
        "    return negLL\n",
        "\n",
        "\n"
      ],
      "metadata": {
        "id": "owq9Z3L8ysLs"
      },
      "execution_count": null,
      "outputs": []
    },
    {
      "cell_type": "code",
      "source": [
        "# run model on single subject\n",
        "\n",
        "# specify starting points\n",
        "init_params = (1,1,1) #initial params for equal loss/risk aversion and equal gamble probability\n",
        "\n",
        "# minimize MSE for linear function using scipy.optimize.minimize\n",
        "results = minimize(ProspectTheory, \n",
        "                          init_params, \n",
        "                          args=df, \n",
        "                          method = 'Nelder-Mead',\n",
        "                      options = {'maxiter': 100}) \n",
        "    \n",
        "pt_results = results.x\n",
        "\n",
        "print(pt_results)\n",
        "\n",
        "#https://docs.scipy.org/doc/scipy/reference/generated/scipy.optimize.minimize.html"
      ],
      "metadata": {
        "id": "DMFtq1Y6GUGA",
        "colab": {
          "base_uri": "https://localhost:8080/"
        },
        "outputId": "faddba8b-a5e0-40fc-9a73-6d2c15af4a47"
      },
      "execution_count": null,
      "outputs": [
        {
          "output_type": "stream",
          "name": "stdout",
          "text": [
            "[1.17012228e+03 2.01639579e+00 2.50846445e+03]\n"
          ]
        }
      ]
    },
    {
      "cell_type": "markdown",
      "source": [
        "### Part Two: Implementing Integrated Advantage Model\n",
        "\n",
        "In the Integrated Advantage Model for mood, the Policy-weighted reward difference (PWRD) is meant to capture the effect of counterfactual errors on mood. The PWRD is calculated from (the actual choice probability * the outcome) minus (the estimated unchosen probability * the unchosen outcome).[1]\n",
        "\n",
        "Then, the PWRD was used to estimate subject's mood rating using least squares optimization.[3]"
      ],
      "metadata": {
        "id": "B8ylSvytdg8P"
      }
    },
    {
      "cell_type": "code",
      "source": [
        "##### Modeling Mood from Policy-Weighted Reward Difference (Integrated Advantage Model)\n",
        "\n",
        "#Using params from prospect theory model to calculate pwrd for every trial \n",
        "\n",
        "def getPWRD(params,df):\n",
        "    \"\"\"\n",
        "    Function estimates the negative log likelihood of param estimates\n",
        "    \n",
        "    Args:\n",
        "    df (single subject df with trialtype, offers(safe,low,high), and gamble choice)\n",
        "    params (list of initial values for loss_aversion, risk_aversion, mu)\n",
        "\n",
        "    \"\"\"\n",
        "    pwrd_list = []\n",
        "    loss_aversion = params[0]\n",
        "    risk_aversion = params[1]\n",
        "    mu = params[2]\n",
        "\n",
        "    for i in range(0,150):\n",
        "      trial_type = df['TrialType'][i]\n",
        "      high_bet = df['High.Bet'][i]\n",
        "      low_bet = df['Low.Bet'][i]\n",
        "      safe_bet = df['Safe.Bet'][i]\n",
        "      choice = df['Gamble.Choice'][i]\n",
        "      outcome = df['Outcome'][i]\n",
        "      reward = df['Profit'][i]\n",
        "\n",
        "\n",
        "      #calculate difference in subjective utilities for trial \n",
        "      if trial_type == 'mix':\n",
        "        util_diff = (0.5*(high_bet**risk_aversion)) + (0.5*((loss_aversion*-low_bet)**risk_aversion))\n",
        "      elif trial_type == 'loss':\n",
        "        util_diff = (0.5*(loss_aversion*high_bet)) + (0.5*(loss_aversion*-low_bet)) - (loss_aversion*safe_bet)\n",
        "      else: #gain\n",
        "        util_diff = (0.5*(high_bet**risk_aversion)) - (safe_bet**risk_aversion)\n",
        "\n",
        "      #calculate probability of gamble for trial i \n",
        "      p_accept = 1/(1+math.e**(-mu*util_diff)) #softmax equation\n",
        "\n",
        "      #calculate policy-weighted reward difference\n",
        "      if outcome == 'good':\n",
        "        pwrd = 0\n",
        "      elif outcome == 'bad':\n",
        "        if choice == 1:\n",
        "          pwrd = ((1-p_accept)*reward) - ((p_accept)*safe_bet)\n",
        "        elif choice == 0:\n",
        "          pwrd = ((1-p_accept)*reward) - ((p_accept)*high_bet)\n",
        "      pwrd_list.append(pwrd)\n",
        "      \n",
        "    df['pwrd'] = pwrd_list\n",
        "    \n",
        "    return df\n",
        "\n",
        "#calculate pwrd for dataframe\n",
        "df = getPWRD(pt_results,df)\n",
        "\n"
      ],
      "metadata": {
        "id": "F3wPNIEeeBow"
      },
      "execution_count": null,
      "outputs": []
    },
    {
      "cell_type": "code",
      "source": [
        "#Computational Model \n",
        "\n",
        "def IntegratedAdvantage(beta_init,df,rating):\n",
        "  #for i in range(0,150):\n",
        "  est_rating = (beta_init[0] + (beta_init[1]*df['CR']) + (beta_init[2]*df['EV']) + (beta_init[3]*df['RPE']) + (beta_init[4]*df['pwrd']))\n",
        "  \n",
        "  #compute least squares\n",
        "  least_sq = np.sum((rating - est_rating)**2)\n",
        "  return least_sq\n",
        "\n",
        "\n",
        "\n",
        "#running Integrated Advantage Model\n",
        "beta_init = np.ones(5)\n",
        "\n",
        "pwrd_results = minimize(IntegratedAdvantage, \n",
        "                          beta_init, \n",
        "                          args=(df,rating),\n",
        "                      options = {'maxiter': 100}) \n",
        "\n",
        "print(pwrd_results.x)\n",
        "\n",
        "#https://timeseriesreasoning.com/contents/nonlinear-least-squares-nls-regression/"
      ],
      "metadata": {
        "id": "pWuSLbBazsLx",
        "colab": {
          "base_uri": "https://localhost:8080/"
        },
        "outputId": "e8fcd7bc-2b82-460c-dfa1-5b84604cf4d0"
      },
      "execution_count": null,
      "outputs": [
        {
          "output_type": "stream",
          "name": "stdout",
          "text": [
            "[-0.00674173 -0.01582178 -0.09399477  0.45571273 -0.04034153]\n"
          ]
        }
      ]
    },
    {
      "cell_type": "markdown",
      "source": [
        "### Results  \n",
        "\n",
        "Estimating counterfactual signals as a policy-weighted reward difference did not accurately estimate subjective wellbeing rating. \n"
      ],
      "metadata": {
        "id": "zmSCByfJwkNc"
      }
    },
    {
      "cell_type": "code",
      "source": [
        "def plot_observed_vs_predicted(beta_results, df, rating):\n",
        "    \"\"\" Plot observed vs predicted data\n",
        "\n",
        "    Args:\n",
        "    x (ndarray): observed x values\n",
        "    y (ndarray): observed y values\n",
        "    y_hat (ndarray): predicted y values\n",
        "    beta_hats (ndarray): An array of shape (betas,) that contains the estimate of the slope parameter(s)\n",
        "\n",
        "    \"\"\"\n",
        "    est_rating = (beta_results[0] + (beta_results[1]*df['CR']) + (beta_results[2]*df['EV']) + (beta_results[3]*df['RPE']) + (beta_results[4]*df['pwrd']))\n",
        "    est_rating = est_rating[::3]\n",
        "    \n",
        "    fig, ax = plt.subplots()\n",
        "    ax.scatter(range(0,50), rating, label='Observed')  # our data scatter plot\n",
        "    ax.plot(range(0,50), est_rating, color='r', label='Fit')  # our estimated model\n",
        "\n",
        "    # plot residuals\n",
        "    #ymin = np.minimum(rating, est_rating)\n",
        "    #ymax = np.maximum(rating, est_rating)\n",
        "    #ax.vlines(range(0,50), ymin, ymax, 'g', alpha=0.5, label='Residuals')\n",
        "\n",
        "    #ax.set(\n",
        "     #   title=fr\"$intercept={beta_hats[0]:0.2f}, \\hat{{\\beta}}$ = {beta_hats[1]:0.2f}, MSE = {MSE_val:.2f}\",\n",
        "      #  xlabel='x',\n",
        "       # ylabel='y')\n",
        "    \n",
        "    ax.legend()\n",
        "    plt.show()\n",
        "\n",
        "beta_results = pwrd_results.x\n",
        "plot_observed_vs_predicted(beta_results, df, rating)"
      ],
      "metadata": {
        "colab": {
          "base_uri": "https://localhost:8080/",
          "height": 265
        },
        "id": "UYS-0VqwiSJc",
        "outputId": "0ebaca81-6afd-4bfc-f7b8-014bde0b95ac"
      },
      "execution_count": null,
      "outputs": [
        {
          "output_type": "display_data",
          "data": {
            "text/plain": [
              "<Figure size 432x288 with 1 Axes>"
            ],
            "image/png": "[encoded data removed]"
          },
          "metadata": {
            "needs_background": "light"
          }
        }
      ]
    },
    {
      "cell_type": "markdown",
      "source": [
        "The PWRD model fit does not accurately capture subject's mood ratings throughout the Subjective Wellbeing Task. "
      ],
      "metadata": {
        "id": "QAwcTHLGpHHh"
      }
    },
    {
      "cell_type": "markdown",
      "source": [
        "### Discussion\n",
        "\n",
        "Future directions will investigate whether the PWRD itself would be a good predictor of mood rating without inclusion of certain reward, gamble expected value, and reward prediction error parameters. \n",
        "\n",
        "My previous work indicates that counterfactual prediction errors have a strong influence on subject's mood rating. Future analyses will compute raw counterfactual signals rather than the policy-weighted reward difference. "
      ],
      "metadata": {
        "id": "JBJvGM2erPo5"
      }
    },
    {
      "cell_type": "markdown",
      "source": [
        "### References:\n",
        "[1] Bennett, D. et al (2022). A Model of Mood as Integrated Advantage. Psychological Review, 129(3), 513-541. \n",
        "\n",
        "[2] Charpentier, C.J. et al (2017). Enhanced Risk Aversion, But Not Loss Aversion, in Unmedicated Pathological Anxiety. Biological Psychiatry, 81(12), 1014-1022. \n",
        "\n",
        "[3] Rutledge, R. B., et al (2014). A computational and neural model of momentary subjective well-being. Proceedings of the National Academy of Sciences, 111(33), 12252–12257. "
      ],
      "metadata": {
        "id": "ZAiTQjbC6VKr"
      }
    }
  ]
}